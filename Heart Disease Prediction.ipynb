{
 "cells": [
  {
   "cell_type": "markdown",
   "id": "3933a564",
   "metadata": {},
   "source": [
    "<h1 style=\"text-align:center\"> Personal Key Indicators of Heart Disease</h1>\n",
    "             \n",
    "\n",
    "\n",
    "\n",
    "<img src=\"images.jpg\" width=\"800\" height=\"400\">\n"
   ]
  },
  {
   "cell_type": "markdown",
   "id": "e50962d4",
   "metadata": {},
   "source": [
    "According to the CDC, heart disease is one of the leading causes of death for people of most races in the US (African Americans, American Indians and Alaska Natives, and white people). About half of all Americans (47%) have at least 1 of 3 key risk factors for heart disease: high blood pressure, high cholesterol, and smoking. Other key indicator include diabetic status, obesity (high BMI), not getting enough physical activity or drinking too much alcohol. Detecting and preventing the factors that have the greatest impact on heart disease is very important in healthcare. Computational developments, in turn, allow the application of machine learning methods to detect \"patterns\" from the data that can predict a patient's condition.\n",
    "\n",
    "The goal of this study is to build a predictive model that  it takes patients histories and predcit how likely a new pationt has heart disease. The full description of the dataset is provided in <a href=\"https://www.kaggle.com/datasets/kamilpytlak/personal-key-indicators-of-heart-disease\">Kaggle</a>."
   ]
  },
  {
   "cell_type": "code",
   "execution_count": 1,
   "id": "a433c017",
   "metadata": {},
   "outputs": [],
   "source": [
    "import pandas as pd\n",
    "from sklearn.model_selection import train_test_split\n",
    "import numpy as np\n",
    "from sklearn.preprocessing import OneHotEncoder\n",
    "from sklearn.compose import ColumnTransformer\n",
    "from sklearn.preprocessing import StandardScaler\n",
    "import matplotlib.pyplot as plt\n",
    "import seaborn as sns\n"
   ]
  },
  {
   "cell_type": "code",
   "execution_count": 48,
   "id": "8459e4c9",
   "metadata": {},
   "outputs": [],
   "source": [
    "# some helper functions\n",
    "def plot_contag_table(data_count):\n",
    "    names = data_count.columns\n",
    "    for idx, row in data_count.iterrows():\n",
    "        \n",
    "        sum_ = row.sum()\n",
    "        data_count.loc[idx,names[0]] = data_count.loc[idx,names[0]]/ sum_\n",
    "        data_count.loc[idx,names[1]] = data_count.loc[idx,names[1]]/ sum_\n",
    "    \n",
    "    data_count.plot(kind='bar', figsize=(10, 5)) \n",
    "    plt.ylabel('Precentage')\n",
    "    plt.grid()\n",
    "\n",
    "    \n",
    "def plot_conf_matrix(y_test, y_pred):\n",
    "    conf_matrix = confusion_matrix(y_test, y_pred)\n",
    "    conf_matrix = pd.DataFrame(data=conf_matrix, columns=['No', 'Yes'], index=['No', 'Yes'])\n",
    "    sns.heatmap(conf_matrix, annot=True)"
   ]
  },
  {
   "cell_type": "code",
   "execution_count": 2,
   "id": "52e67f65",
   "metadata": {},
   "outputs": [],
   "source": [
    "df = pd.read_csv('heart_2020_cleaned.csv')"
   ]
  },
  {
   "cell_type": "code",
   "execution_count": 3,
   "id": "f06478d3",
   "metadata": {},
   "outputs": [
    {
     "data": {
      "text/html": [
       "<div>\n",
       "<style scoped>\n",
       "    .dataframe tbody tr th:only-of-type {\n",
       "        vertical-align: middle;\n",
       "    }\n",
       "\n",
       "    .dataframe tbody tr th {\n",
       "        vertical-align: top;\n",
       "    }\n",
       "\n",
       "    .dataframe thead th {\n",
       "        text-align: right;\n",
       "    }\n",
       "</style>\n",
       "<table border=\"1\" class=\"dataframe\">\n",
       "  <thead>\n",
       "    <tr style=\"text-align: right;\">\n",
       "      <th></th>\n",
       "      <th>HeartDisease</th>\n",
       "      <th>BMI</th>\n",
       "      <th>Smoking</th>\n",
       "      <th>AlcoholDrinking</th>\n",
       "      <th>Stroke</th>\n",
       "      <th>PhysicalHealth</th>\n",
       "      <th>MentalHealth</th>\n",
       "      <th>DiffWalking</th>\n",
       "      <th>Sex</th>\n",
       "      <th>AgeCategory</th>\n",
       "      <th>Race</th>\n",
       "      <th>Diabetic</th>\n",
       "      <th>PhysicalActivity</th>\n",
       "      <th>GenHealth</th>\n",
       "      <th>SleepTime</th>\n",
       "      <th>Asthma</th>\n",
       "      <th>KidneyDisease</th>\n",
       "      <th>SkinCancer</th>\n",
       "    </tr>\n",
       "  </thead>\n",
       "  <tbody>\n",
       "    <tr>\n",
       "      <th>0</th>\n",
       "      <td>No</td>\n",
       "      <td>16.60</td>\n",
       "      <td>Yes</td>\n",
       "      <td>No</td>\n",
       "      <td>No</td>\n",
       "      <td>3.0</td>\n",
       "      <td>30.0</td>\n",
       "      <td>No</td>\n",
       "      <td>Female</td>\n",
       "      <td>55-59</td>\n",
       "      <td>White</td>\n",
       "      <td>Yes</td>\n",
       "      <td>Yes</td>\n",
       "      <td>Very good</td>\n",
       "      <td>5.0</td>\n",
       "      <td>Yes</td>\n",
       "      <td>No</td>\n",
       "      <td>Yes</td>\n",
       "    </tr>\n",
       "    <tr>\n",
       "      <th>1</th>\n",
       "      <td>No</td>\n",
       "      <td>20.34</td>\n",
       "      <td>No</td>\n",
       "      <td>No</td>\n",
       "      <td>Yes</td>\n",
       "      <td>0.0</td>\n",
       "      <td>0.0</td>\n",
       "      <td>No</td>\n",
       "      <td>Female</td>\n",
       "      <td>80 or older</td>\n",
       "      <td>White</td>\n",
       "      <td>No</td>\n",
       "      <td>Yes</td>\n",
       "      <td>Very good</td>\n",
       "      <td>7.0</td>\n",
       "      <td>No</td>\n",
       "      <td>No</td>\n",
       "      <td>No</td>\n",
       "    </tr>\n",
       "    <tr>\n",
       "      <th>2</th>\n",
       "      <td>No</td>\n",
       "      <td>26.58</td>\n",
       "      <td>Yes</td>\n",
       "      <td>No</td>\n",
       "      <td>No</td>\n",
       "      <td>20.0</td>\n",
       "      <td>30.0</td>\n",
       "      <td>No</td>\n",
       "      <td>Male</td>\n",
       "      <td>65-69</td>\n",
       "      <td>White</td>\n",
       "      <td>Yes</td>\n",
       "      <td>Yes</td>\n",
       "      <td>Fair</td>\n",
       "      <td>8.0</td>\n",
       "      <td>Yes</td>\n",
       "      <td>No</td>\n",
       "      <td>No</td>\n",
       "    </tr>\n",
       "    <tr>\n",
       "      <th>3</th>\n",
       "      <td>No</td>\n",
       "      <td>24.21</td>\n",
       "      <td>No</td>\n",
       "      <td>No</td>\n",
       "      <td>No</td>\n",
       "      <td>0.0</td>\n",
       "      <td>0.0</td>\n",
       "      <td>No</td>\n",
       "      <td>Female</td>\n",
       "      <td>75-79</td>\n",
       "      <td>White</td>\n",
       "      <td>No</td>\n",
       "      <td>No</td>\n",
       "      <td>Good</td>\n",
       "      <td>6.0</td>\n",
       "      <td>No</td>\n",
       "      <td>No</td>\n",
       "      <td>Yes</td>\n",
       "    </tr>\n",
       "    <tr>\n",
       "      <th>4</th>\n",
       "      <td>No</td>\n",
       "      <td>23.71</td>\n",
       "      <td>No</td>\n",
       "      <td>No</td>\n",
       "      <td>No</td>\n",
       "      <td>28.0</td>\n",
       "      <td>0.0</td>\n",
       "      <td>Yes</td>\n",
       "      <td>Female</td>\n",
       "      <td>40-44</td>\n",
       "      <td>White</td>\n",
       "      <td>No</td>\n",
       "      <td>Yes</td>\n",
       "      <td>Very good</td>\n",
       "      <td>8.0</td>\n",
       "      <td>No</td>\n",
       "      <td>No</td>\n",
       "      <td>No</td>\n",
       "    </tr>\n",
       "    <tr>\n",
       "      <th>5</th>\n",
       "      <td>Yes</td>\n",
       "      <td>28.87</td>\n",
       "      <td>Yes</td>\n",
       "      <td>No</td>\n",
       "      <td>No</td>\n",
       "      <td>6.0</td>\n",
       "      <td>0.0</td>\n",
       "      <td>Yes</td>\n",
       "      <td>Female</td>\n",
       "      <td>75-79</td>\n",
       "      <td>Black</td>\n",
       "      <td>No</td>\n",
       "      <td>No</td>\n",
       "      <td>Fair</td>\n",
       "      <td>12.0</td>\n",
       "      <td>No</td>\n",
       "      <td>No</td>\n",
       "      <td>No</td>\n",
       "    </tr>\n",
       "    <tr>\n",
       "      <th>6</th>\n",
       "      <td>No</td>\n",
       "      <td>21.63</td>\n",
       "      <td>No</td>\n",
       "      <td>No</td>\n",
       "      <td>No</td>\n",
       "      <td>15.0</td>\n",
       "      <td>0.0</td>\n",
       "      <td>No</td>\n",
       "      <td>Female</td>\n",
       "      <td>70-74</td>\n",
       "      <td>White</td>\n",
       "      <td>No</td>\n",
       "      <td>Yes</td>\n",
       "      <td>Fair</td>\n",
       "      <td>4.0</td>\n",
       "      <td>Yes</td>\n",
       "      <td>No</td>\n",
       "      <td>Yes</td>\n",
       "    </tr>\n",
       "    <tr>\n",
       "      <th>7</th>\n",
       "      <td>No</td>\n",
       "      <td>31.64</td>\n",
       "      <td>Yes</td>\n",
       "      <td>No</td>\n",
       "      <td>No</td>\n",
       "      <td>5.0</td>\n",
       "      <td>0.0</td>\n",
       "      <td>Yes</td>\n",
       "      <td>Female</td>\n",
       "      <td>80 or older</td>\n",
       "      <td>White</td>\n",
       "      <td>Yes</td>\n",
       "      <td>No</td>\n",
       "      <td>Good</td>\n",
       "      <td>9.0</td>\n",
       "      <td>Yes</td>\n",
       "      <td>No</td>\n",
       "      <td>No</td>\n",
       "    </tr>\n",
       "    <tr>\n",
       "      <th>8</th>\n",
       "      <td>No</td>\n",
       "      <td>26.45</td>\n",
       "      <td>No</td>\n",
       "      <td>No</td>\n",
       "      <td>No</td>\n",
       "      <td>0.0</td>\n",
       "      <td>0.0</td>\n",
       "      <td>No</td>\n",
       "      <td>Female</td>\n",
       "      <td>80 or older</td>\n",
       "      <td>White</td>\n",
       "      <td>No, borderline diabetes</td>\n",
       "      <td>No</td>\n",
       "      <td>Fair</td>\n",
       "      <td>5.0</td>\n",
       "      <td>No</td>\n",
       "      <td>Yes</td>\n",
       "      <td>No</td>\n",
       "    </tr>\n",
       "    <tr>\n",
       "      <th>9</th>\n",
       "      <td>No</td>\n",
       "      <td>40.69</td>\n",
       "      <td>No</td>\n",
       "      <td>No</td>\n",
       "      <td>No</td>\n",
       "      <td>0.0</td>\n",
       "      <td>0.0</td>\n",
       "      <td>Yes</td>\n",
       "      <td>Male</td>\n",
       "      <td>65-69</td>\n",
       "      <td>White</td>\n",
       "      <td>No</td>\n",
       "      <td>Yes</td>\n",
       "      <td>Good</td>\n",
       "      <td>10.0</td>\n",
       "      <td>No</td>\n",
       "      <td>No</td>\n",
       "      <td>No</td>\n",
       "    </tr>\n",
       "  </tbody>\n",
       "</table>\n",
       "</div>"
      ],
      "text/plain": [
       "  HeartDisease    BMI Smoking AlcoholDrinking Stroke  PhysicalHealth  \\\n",
       "0           No  16.60     Yes              No     No             3.0   \n",
       "1           No  20.34      No              No    Yes             0.0   \n",
       "2           No  26.58     Yes              No     No            20.0   \n",
       "3           No  24.21      No              No     No             0.0   \n",
       "4           No  23.71      No              No     No            28.0   \n",
       "5          Yes  28.87     Yes              No     No             6.0   \n",
       "6           No  21.63      No              No     No            15.0   \n",
       "7           No  31.64     Yes              No     No             5.0   \n",
       "8           No  26.45      No              No     No             0.0   \n",
       "9           No  40.69      No              No     No             0.0   \n",
       "\n",
       "   MentalHealth DiffWalking     Sex  AgeCategory   Race  \\\n",
       "0          30.0          No  Female        55-59  White   \n",
       "1           0.0          No  Female  80 or older  White   \n",
       "2          30.0          No    Male        65-69  White   \n",
       "3           0.0          No  Female        75-79  White   \n",
       "4           0.0         Yes  Female        40-44  White   \n",
       "5           0.0         Yes  Female        75-79  Black   \n",
       "6           0.0          No  Female        70-74  White   \n",
       "7           0.0         Yes  Female  80 or older  White   \n",
       "8           0.0          No  Female  80 or older  White   \n",
       "9           0.0         Yes    Male        65-69  White   \n",
       "\n",
       "                  Diabetic PhysicalActivity  GenHealth  SleepTime Asthma  \\\n",
       "0                      Yes              Yes  Very good        5.0    Yes   \n",
       "1                       No              Yes  Very good        7.0     No   \n",
       "2                      Yes              Yes       Fair        8.0    Yes   \n",
       "3                       No               No       Good        6.0     No   \n",
       "4                       No              Yes  Very good        8.0     No   \n",
       "5                       No               No       Fair       12.0     No   \n",
       "6                       No              Yes       Fair        4.0    Yes   \n",
       "7                      Yes               No       Good        9.0    Yes   \n",
       "8  No, borderline diabetes               No       Fair        5.0     No   \n",
       "9                       No              Yes       Good       10.0     No   \n",
       "\n",
       "  KidneyDisease SkinCancer  \n",
       "0            No        Yes  \n",
       "1            No         No  \n",
       "2            No         No  \n",
       "3            No        Yes  \n",
       "4            No         No  \n",
       "5            No         No  \n",
       "6            No        Yes  \n",
       "7            No         No  \n",
       "8           Yes         No  \n",
       "9            No         No  "
      ]
     },
     "execution_count": 3,
     "metadata": {},
     "output_type": "execute_result"
    }
   ],
   "source": [
    "df.head(10)"
   ]
  },
  {
   "cell_type": "code",
   "execution_count": 5,
   "id": "d899e24b",
   "metadata": {},
   "outputs": [
    {
     "name": "stdout",
     "output_type": "stream",
     "text": [
      "train set shape: (319795, 18)\n"
     ]
    }
   ],
   "source": [
    "print(f'train set shape: {df.shape}')"
   ]
  },
  {
   "cell_type": "markdown",
   "id": "24a3dcf9",
   "metadata": {},
   "source": [
    "show the number of smaples per each class. "
   ]
  },
  {
   "cell_type": "code",
   "execution_count": 6,
   "id": "38d92a81",
   "metadata": {},
   "outputs": [
    {
     "data": {
      "text/plain": [
       "<AxesSubplot:ylabel='HeartDisease'>"
      ]
     },
     "execution_count": 6,
     "metadata": {},
     "output_type": "execute_result"
    },
    {
     "data": {
      "image/png": "[encoded data removed]",
      "text/plain": [
       "<Figure size 360x360 with 1 Axes>"
      ]
     },
     "metadata": {},
     "output_type": "display_data"
    }
   ],
   "source": [
    "num_classes = df['HeartDisease'].value_counts()\n",
    "num_classes.plot(kind='pie', autopct='%.2f', figsize=(5, 5))"
   ]
  },
  {
   "cell_type": "markdown",
   "id": "7f103a95",
   "metadata": {},
   "source": [
    "Obviously the data is imbalanced. This needs to be taken care of!"
   ]
  },
  {
   "cell_type": "code",
   "execution_count": 7,
   "id": "73e7ae64",
   "metadata": {},
   "outputs": [
    {
     "data": {
      "text/html": [
       "<div>\n",
       "<style scoped>\n",
       "    .dataframe tbody tr th:only-of-type {\n",
       "        vertical-align: middle;\n",
       "    }\n",
       "\n",
       "    .dataframe tbody tr th {\n",
       "        vertical-align: top;\n",
       "    }\n",
       "\n",
       "    .dataframe thead th {\n",
       "        text-align: right;\n",
       "    }\n",
       "</style>\n",
       "<table border=\"1\" class=\"dataframe\">\n",
       "  <thead>\n",
       "    <tr style=\"text-align: right;\">\n",
       "      <th></th>\n",
       "      <th>BMI</th>\n",
       "      <th>PhysicalHealth</th>\n",
       "      <th>MentalHealth</th>\n",
       "      <th>SleepTime</th>\n",
       "    </tr>\n",
       "  </thead>\n",
       "  <tbody>\n",
       "    <tr>\n",
       "      <th>count</th>\n",
       "      <td>319795.000000</td>\n",
       "      <td>319795.00000</td>\n",
       "      <td>319795.000000</td>\n",
       "      <td>319795.000000</td>\n",
       "    </tr>\n",
       "    <tr>\n",
       "      <th>mean</th>\n",
       "      <td>28.325399</td>\n",
       "      <td>3.37171</td>\n",
       "      <td>3.898366</td>\n",
       "      <td>7.097075</td>\n",
       "    </tr>\n",
       "    <tr>\n",
       "      <th>std</th>\n",
       "      <td>6.356100</td>\n",
       "      <td>7.95085</td>\n",
       "      <td>7.955235</td>\n",
       "      <td>1.436007</td>\n",
       "    </tr>\n",
       "    <tr>\n",
       "      <th>min</th>\n",
       "      <td>12.020000</td>\n",
       "      <td>0.00000</td>\n",
       "      <td>0.000000</td>\n",
       "      <td>1.000000</td>\n",
       "    </tr>\n",
       "    <tr>\n",
       "      <th>25%</th>\n",
       "      <td>24.030000</td>\n",
       "      <td>0.00000</td>\n",
       "      <td>0.000000</td>\n",
       "      <td>6.000000</td>\n",
       "    </tr>\n",
       "    <tr>\n",
       "      <th>50%</th>\n",
       "      <td>27.340000</td>\n",
       "      <td>0.00000</td>\n",
       "      <td>0.000000</td>\n",
       "      <td>7.000000</td>\n",
       "    </tr>\n",
       "    <tr>\n",
       "      <th>75%</th>\n",
       "      <td>31.420000</td>\n",
       "      <td>2.00000</td>\n",
       "      <td>3.000000</td>\n",
       "      <td>8.000000</td>\n",
       "    </tr>\n",
       "    <tr>\n",
       "      <th>max</th>\n",
       "      <td>94.850000</td>\n",
       "      <td>30.00000</td>\n",
       "      <td>30.000000</td>\n",
       "      <td>24.000000</td>\n",
       "    </tr>\n",
       "  </tbody>\n",
       "</table>\n",
       "</div>"
      ],
      "text/plain": [
       "                 BMI  PhysicalHealth   MentalHealth      SleepTime\n",
       "count  319795.000000    319795.00000  319795.000000  319795.000000\n",
       "mean       28.325399         3.37171       3.898366       7.097075\n",
       "std         6.356100         7.95085       7.955235       1.436007\n",
       "min        12.020000         0.00000       0.000000       1.000000\n",
       "25%        24.030000         0.00000       0.000000       6.000000\n",
       "50%        27.340000         0.00000       0.000000       7.000000\n",
       "75%        31.420000         2.00000       3.000000       8.000000\n",
       "max        94.850000        30.00000      30.000000      24.000000"
      ]
     },
     "execution_count": 7,
     "metadata": {},
     "output_type": "execute_result"
    }
   ],
   "source": [
    "df.describe()"
   ]
  },
  {
   "cell_type": "markdown",
   "id": "c9301e45",
   "metadata": {},
   "source": [
    "Good, no missing value. Most of the featrues are categorical."
   ]
  },
  {
   "cell_type": "markdown",
   "id": "3d8aa59b",
   "metadata": {},
   "source": [
    "### Heart disease versus BMI, PhysicalHealth, MentalHealth and SleepTime"
   ]
  },
  {
   "cell_type": "code",
   "execution_count": 9,
   "id": "ed2f4432",
   "metadata": {},
   "outputs": [
    {
     "data": {
      "image/png": "[encoded data removed]",
      "text/plain": [
       "<Figure size 1080x360 with 4 Axes>"
      ]
     },
     "metadata": {
      "needs_background": "light"
     },
     "output_type": "display_data"
    }
   ],
   "source": [
    "fig, axes = plt.subplots(1, 4, figsize=(15, 5))\n",
    "\n",
    "sns.barplot(ax=axes[0], x=\"HeartDisease\", y=\"BMI\", data=df)\n",
    "axes[0].grid()\n",
    "sns.barplot(ax=axes[1], x=\"HeartDisease\", y=\"PhysicalHealth\", data=df)\n",
    "axes[1].grid()\n",
    "sns.barplot(ax=axes[2], x=\"HeartDisease\", y=\"MentalHealth\", data=df)\n",
    "axes[2].grid()\n",
    "sns.barplot(ax=axes[3], x=\"HeartDisease\", y=\"SleepTime\", data=df)\n",
    "axes[3].grid()"
   ]
  },
  {
   "cell_type": "markdown",
   "id": "dcc46397",
   "metadata": {},
   "source": [
    " BMI, PhysicalHealth, MentalHealth are important factors for heart disease.  Sleep time has less effect."
   ]
  },
  {
   "cell_type": "markdown",
   "id": "616f8b3e",
   "metadata": {},
   "source": [
    "### Heart disease versus Smoking"
   ]
  },
  {
   "cell_type": "code",
   "execution_count": 38,
   "id": "2f0af031",
   "metadata": {},
   "outputs": [
    {
     "data": {
      "image/png": "[encoded data removed]",
      "text/plain": [
       "<Figure size 720x360 with 1 Axes>"
      ]
     },
     "metadata": {
      "needs_background": "light"
     },
     "output_type": "display_data"
    }
   ],
   "source": [
    "data_count_smoke=df.groupby(\"HeartDisease\")[\"Smoking\"].value_counts().unstack()\n",
    "\n",
    "plot_contag_table(data_count_smoke)"
   ]
  },
  {
   "cell_type": "markdown",
   "id": "5a46a8b9",
   "metadata": {},
   "source": [
    "Smoking can increase the risk of heart disease!"
   ]
  },
  {
   "cell_type": "markdown",
   "id": "d55e1cdd",
   "metadata": {},
   "source": [
    "### Heart disease versus Drinking Alcohol "
   ]
  },
  {
   "cell_type": "code",
   "execution_count": 42,
   "id": "b4eb5f54",
   "metadata": {},
   "outputs": [
    {
     "data": {
      "image/png": "[encoded data removed]",
      "text/plain": [
       "<Figure size 720x360 with 1 Axes>"
      ]
     },
     "metadata": {
      "needs_background": "light"
     },
     "output_type": "display_data"
    }
   ],
   "source": [
    "data_count_alcohol=df.groupby(\"HeartDisease\")[\"AlcoholDrinking\"].value_counts().unstack()\n",
    "plot_contag_table(data_count_alcohol)"
   ]
  },
  {
   "cell_type": "markdown",
   "id": "f643b025",
   "metadata": {},
   "source": [
    "Drinking alchohol can decrease the risk of heart disease!!! In fact stuides confrim that moderate dirking alcohol is good for heart attack. <a href=\"https://www.hopkinsmedicine.org/health/wellness-and-prevention/alcohol-and-heart-health-separating-fact-from-fiction#:~:text=Excessive%20alcohol%20intake%20can%20lead,can%20go%20along%20with%20it.\">Please read here.</a>"
   ]
  },
  {
   "cell_type": "markdown",
   "id": "863e16b8",
   "metadata": {},
   "source": [
    "### Heart Disease versus alcohol Stroke"
   ]
  },
  {
   "cell_type": "code",
   "execution_count": 44,
   "id": "b97aad69",
   "metadata": {},
   "outputs": [
    {
     "data": {
      "image/png": "[encoded data removed]",
      "text/plain": [
       "<Figure size 720x360 with 1 Axes>"
      ]
     },
     "metadata": {
      "needs_background": "light"
     },
     "output_type": "display_data"
    }
   ],
   "source": [
    "data_count_stroke=df.groupby(\"HeartDisease\")[\"Stroke\"].value_counts().unstack()\n",
    "plot_contag_table(data_count_stroke)"
   ]
  },
  {
   "cell_type": "markdown",
   "id": "d3f2a5f9",
   "metadata": {},
   "source": [
    "People who exprerienced stroke are more likley to have heart disease"
   ]
  },
  {
   "cell_type": "markdown",
   "id": "574af63a",
   "metadata": {},
   "source": [
    "### Heart Disease versus  Difficulty in Walking"
   ]
  },
  {
   "cell_type": "code",
   "execution_count": 49,
   "id": "16021739",
   "metadata": {},
   "outputs": [
    {
     "data": {
      "image/png": "[encoded data removed]",
      "text/plain": [
       "<Figure size 720x360 with 1 Axes>"
      ]
     },
     "metadata": {
      "needs_background": "light"
     },
     "output_type": "display_data"
    }
   ],
   "source": [
    "data_count_DiffWalking=df.groupby(\"HeartDisease\")[\"DiffWalking\"].value_counts().unstack()\n",
    "plot_contag_table(data_count_DiffWalking)"
   ]
  },
  {
   "cell_type": "markdown",
   "id": "64035e30",
   "metadata": {},
   "source": [
    "People who reported have diffculty in walking are more likley to have heart disease."
   ]
  },
  {
   "cell_type": "markdown",
   "id": "cc062a6f",
   "metadata": {},
   "source": [
    "### Heart Disease versus  Sex"
   ]
  },
  {
   "cell_type": "code",
   "execution_count": 52,
   "id": "121c900c",
   "metadata": {},
   "outputs": [
    {
     "data": {
      "image/png": "[encoded data removed]",
      "text/plain": [
       "<Figure size 720x360 with 1 Axes>"
      ]
     },
     "metadata": {
      "needs_background": "light"
     },
     "output_type": "display_data"
    }
   ],
   "source": [
    "data_count_Sex=df.groupby(\"HeartDisease\")[\"Sex\"].value_counts().unstack()\n",
    "plot_contag_table(data_count_Sex)"
   ]
  },
  {
   "cell_type": "markdown",
   "id": "3cc24044",
   "metadata": {},
   "source": [
    "Males are more likley to have heart disease.\n"
   ]
  },
  {
   "cell_type": "markdown",
   "id": "de08fc40",
   "metadata": {},
   "source": [
    "### Heart Disease versus  Asthma"
   ]
  },
  {
   "cell_type": "code",
   "execution_count": 54,
   "id": "0123896e",
   "metadata": {},
   "outputs": [
    {
     "data": {
      "image/png": "[encoded data removed]",
      "text/plain": [
       "<Figure size 720x360 with 1 Axes>"
      ]
     },
     "metadata": {
      "needs_background": "light"
     },
     "output_type": "display_data"
    }
   ],
   "source": [
    "data_count_Sex=df.groupby(\"HeartDisease\")[\"Asthma\"].value_counts().unstack()\n",
    "plot_contag_table(data_count_Sex)"
   ]
  },
  {
   "cell_type": "markdown",
   "id": "69a63308",
   "metadata": {},
   "source": [
    "People who have asthma  are more likley to have heart disease"
   ]
  },
  {
   "cell_type": "markdown",
   "id": "ebc0b742",
   "metadata": {},
   "source": [
    "### Heart Disease versus  Age"
   ]
  },
  {
   "cell_type": "code",
   "execution_count": 15,
   "id": "6bea59ec",
   "metadata": {},
   "outputs": [
    {
     "data": {
      "text/plain": [
       "<AxesSubplot:xlabel='AgeCategory'>"
      ]
     },
     "execution_count": 15,
     "metadata": {},
     "output_type": "execute_result"
    },
    {
     "data": {
      "image/png": "[encoded data removed]",
      "text/plain": [
       "<Figure size 1080x360 with 1 Axes>"
      ]
     },
     "metadata": {
      "needs_background": "light"
     },
     "output_type": "display_data"
    }
   ],
   "source": [
    "data_count= df.groupby(\"HeartDisease\")[\"AgeCategory\"].value_counts().unstack()\n",
    "data_count=data_count.T\n",
    "\n",
    "for idx, row in data_count.iterrows():\n",
    "    data_count.loc[idx,'No']\n",
    "    sum_ = row.sum()\n",
    "    data_count.loc[idx,'No'] = data_count.loc[idx,'No']/ sum_\n",
    "    data_count.loc[idx,'Yes'] = data_count.loc[idx,'Yes']/ sum_\n",
    "\n",
    "data_count.plot(kind='bar', figsize=(15, 5))   "
   ]
  },
  {
   "cell_type": "markdown",
   "id": "69673c04",
   "metadata": {},
   "source": [
    "Old people are more likely to have heart disease."
   ]
  },
  {
   "cell_type": "markdown",
   "id": "a49ad3b3",
   "metadata": {},
   "source": [
    "### Heart Disease versus  Race"
   ]
  },
  {
   "cell_type": "code",
   "execution_count": 53,
   "id": "8b65a31b",
   "metadata": {},
   "outputs": [
    {
     "data": {
      "text/plain": [
       "<AxesSubplot:xlabel='Race'>"
      ]
     },
     "execution_count": 53,
     "metadata": {},
     "output_type": "execute_result"
    },
    {
     "data": {
      "image/png": "[encoded data removed]",
      "text/plain": [
       "<Figure size 1080x360 with 1 Axes>"
      ]
     },
     "metadata": {
      "needs_background": "light"
     },
     "output_type": "display_data"
    }
   ],
   "source": [
    "data_count= df.groupby(\"HeartDisease\")[\"Race\"].value_counts().unstack()\n",
    "data_count=data_count.T\n",
    "\n",
    "for idx, row in data_count.iterrows():\n",
    "    data_count.loc[idx,'No']\n",
    "    sum_ = row.sum()\n",
    "    data_count.loc[idx,'No'] = data_count.loc[idx,'No']/ sum_\n",
    "    data_count.loc[idx,'Yes'] = data_count.loc[idx,'Yes']/ sum_\n",
    "    \n",
    "    \n",
    "data_count.plot(kind='bar', figsize=(15, 5))  "
   ]
  },
  {
   "cell_type": "markdown",
   "id": "39539c18",
   "metadata": {},
   "source": [
    "Prepare the data for prediction"
   ]
  },
  {
   "cell_type": "code",
   "execution_count": 58,
   "id": "b11d52e7",
   "metadata": {},
   "outputs": [],
   "source": [
    "df['class'] = df['HeartDisease'].apply(lambda x: 1 if x=='Yes' else 0)\n",
    "df['class'] = df['HeartDisease'].apply(lambda x: 1 if x=='Yes' else 0)"
   ]
  },
  {
   "cell_type": "code",
   "execution_count": 59,
   "id": "15f1c257",
   "metadata": {},
   "outputs": [],
   "source": [
    "data_train, data_test = train_test_split(df, test_size=0.2, random_state=44)"
   ]
  },
  {
   "cell_type": "markdown",
   "id": "d107d29e",
   "metadata": {},
   "source": [
    "## Data preprocessing"
   ]
  },
  {
   "cell_type": "code",
   "execution_count": 60,
   "id": "f7e73457",
   "metadata": {},
   "outputs": [],
   "source": [
    "features = data_train.columns\n",
    "\n",
    "feature_num = [feature for i, feature in enumerate(features) if data_train.dtypes[i]=='float64']\n",
    "\n",
    "feature_cat = [feature for i, feature in enumerate(features) if data_train.dtypes[i]=='object']\n",
    "del feature_cat[0]"
   ]
  },
  {
   "cell_type": "code",
   "execution_count": 61,
   "id": "cfe19297",
   "metadata": {},
   "outputs": [
    {
     "data": {
      "text/plain": [
       "ColumnTransformer(remainder='passthrough',\n",
       "                  transformers=[('1hot', OneHotEncoder(),\n",
       "                                 ['Smoking', 'AlcoholDrinking', 'Stroke',\n",
       "                                  'DiffWalking', 'Sex', 'AgeCategory', 'Race',\n",
       "                                  'Diabetic', 'PhysicalActivity', 'GenHealth',\n",
       "                                  'Asthma', 'KidneyDisease', 'SkinCancer']),\n",
       "                                ('norm', StandardScaler(),\n",
       "                                 ['BMI', 'PhysicalHealth', 'MentalHealth',\n",
       "                                  'SleepTime'])])"
      ]
     },
     "execution_count": 61,
     "metadata": {},
     "output_type": "execute_result"
    }
   ],
   "source": [
    "ct = ColumnTransformer([(\"1hot\", OneHotEncoder(), feature_cat),\\\n",
    "                       (\"norm\", StandardScaler(), feature_num)], remainder='passthrough')\n",
    "\n",
    "ct.fit(data_train)"
   ]
  },
  {
   "cell_type": "code",
   "execution_count": 62,
   "id": "09170fdf",
   "metadata": {},
   "outputs": [],
   "source": [
    "x_train_1hot = ct.transform(data_train)[:,:-2]\n",
    "\n",
    "y_train = data_train['class'].to_numpy()\n",
    "\n",
    "\n",
    "x_test_1hot =  ct.transform(data_test)[:,:-2]\n",
    "y_test = data_test['class'].to_numpy()"
   ]
  },
  {
   "cell_type": "markdown",
   "id": "b8b34d30",
   "metadata": {},
   "source": [
    "## Model fitting"
   ]
  },
  {
   "cell_type": "code",
   "execution_count": 63,
   "id": "513e68db",
   "metadata": {},
   "outputs": [],
   "source": [
    "from sklearn.linear_model import SGDClassifier\n",
    "from sklearn.metrics import accuracy_score\n",
    "from sklearn.metrics import f1_score\n",
    "from sklearn.metrics import confusion_matrix\n",
    "from sklearn.metrics import plot_confusion_matrix\n",
    "from sklearn.model_selection import GridSearchCV\n",
    "from sklearn.tree import DecisionTreeClassifier\n",
    "from sklearn.ensemble import RandomForestClassifier\n",
    "from sklearn import tree\n",
    "import tensorflow as tf\n",
    "from sklearn.naive_bayes import GaussianNB"
   ]
  },
  {
   "cell_type": "markdown",
   "id": "c1e5fcee",
   "metadata": {},
   "source": [
    "Try SGD classifier"
   ]
  },
  {
   "cell_type": "code",
   "execution_count": 67,
   "id": "24c5e773",
   "metadata": {},
   "outputs": [],
   "source": [
    "sgd_clf = SGDClassifier(random_state=42)\n",
    "\n",
    "sgd_clf.fit(x_train_1hot, y_train)\n",
    "\n",
    "y_pred = sgd_clf.predict(x_test_1hot)"
   ]
  },
  {
   "cell_type": "code",
   "execution_count": 68,
   "id": "9216009f",
   "metadata": {},
   "outputs": [
    {
     "name": "stdout",
     "output_type": "stream",
     "text": [
      "accuracy_score:0.9148517018715114\n",
      "f1_score:0.0\n"
     ]
    },
    {
     "data": {
      "image/png": "[encoded data removed]",
      "text/plain": [
       "<Figure size 432x288 with 2 Axes>"
      ]
     },
     "metadata": {
      "needs_background": "light"
     },
     "output_type": "display_data"
    }
   ],
   "source": [
    "plot_conf_matrix(y_test, y_pred)\n",
    "\n",
    "print(f'accuracy_score:{accuracy_score(y_test, y_pred)}')  \n",
    "print(f'f1_score:{f1_score(y_test, y_pred)}')"
   ]
  },
  {
   "cell_type": "markdown",
   "id": "fb8ad5d4",
   "metadata": {},
   "source": [
    "This is not a good classifier. All the examples are predicted to have not heart disease!!!\n",
    "\n",
    "Let try to resample the data to incearse the number of positive examples."
   ]
  },
  {
   "cell_type": "code",
   "execution_count": 69,
   "id": "6e1b9d87",
   "metadata": {},
   "outputs": [],
   "source": [
    "# x_trainign_true = x_test_1hot[filt,:].copy()\n",
    "filt = y_train==True\n",
    "x_lis = []\n",
    "x_label = []\n",
    "for i in range(3):\n",
    "    x_lis.append(x_train_1hot[filt,:].copy())\n",
    "    x_label.append(y_train[filt].copy())\n",
    "    \n",
    "x_trainign_true =np.concatenate(x_lis)\n",
    "y_trainign_true =np.concatenate(x_label)\n",
    "\n",
    "x_train_1hot_resample = np.concatenate([x_trainign_true,x_train_1hot])\n",
    "y_train_resample = np.concatenate([y_trainign_true,y_train], axis=0)\n",
    "\n",
    "idx = np.random.permutation(255836)\n",
    "\n",
    "x_train_1hot_resample = x_train_1hot_resample[idx]\n",
    "y_train_resample = y_train_resample[idx]"
   ]
  },
  {
   "cell_type": "code",
   "execution_count": 70,
   "id": "c82234c3",
   "metadata": {},
   "outputs": [
    {
     "data": {
      "image/png": "[encoded data removed]",
      "text/plain": [
       "<Figure size 432x288 with 1 Axes>"
      ]
     },
     "metadata": {},
     "output_type": "display_data"
    }
   ],
   "source": [
    "num_classes = y_train_resample.sum()/y_train_resample.shape[0]\n",
    "labels = ['Yes', 'No']\n",
    "sizes = [num_classes*100, (1-num_classes)*100]\n",
    "plt.pie(sizes,labels=labels, autopct='%.2f' )\n",
    "plt.show()"
   ]
  },
  {
   "cell_type": "markdown",
   "id": "7db29a67",
   "metadata": {},
   "source": [
    "We train the SGD classifeir again with the new data set"
   ]
  },
  {
   "cell_type": "markdown",
   "id": "1d5e6abf",
   "metadata": {},
   "source": [
    "### SGD"
   ]
  },
  {
   "cell_type": "code",
   "execution_count": 71,
   "id": "c40f3b3c",
   "metadata": {},
   "outputs": [],
   "source": [
    "\n",
    "parameters = {'penalty':['l1', 'l2', 'elasticnet']}\n",
    "\n",
    "sgd_clf = GridSearchCV(SGDClassifier(random_state=42), parameters, scoring='f1', cv=3)\n",
    "sgd_clf.fit(x_train_1hot_resample, y_train_resample)\n",
    "\n",
    "y_pred = sgd_clf.best_estimator_.predict(x_test_1hot)\n"
   ]
  },
  {
   "cell_type": "code",
   "execution_count": 72,
   "id": "6a06d42c",
   "metadata": {},
   "outputs": [
    {
     "name": "stdout",
     "output_type": "stream",
     "text": [
      "accuracy_score:0.8620678872402633\n",
      "f1_score:0.3897343663530714\n"
     ]
    },
    {
     "data": {
      "image/png": "[encoded data removed]",
      "text/plain": [
       "<Figure size 432x288 with 2 Axes>"
      ]
     },
     "metadata": {
      "needs_background": "light"
     },
     "output_type": "display_data"
    }
   ],
   "source": [
    "plot_conf_matrix(y_test, y_pred)\n",
    "\n",
    "print(f'accuracy_score:{accuracy_score(y_test, y_pred)}')  \n",
    "print(f'f1_score:{f1_score(y_test, y_pred)}')"
   ]
  },
  {
   "cell_type": "markdown",
   "id": "71722dc5",
   "metadata": {},
   "source": [
    "It is much better!\n",
    "\n",
    "Now lets try other classifers."
   ]
  },
  {
   "cell_type": "markdown",
   "id": "c9617b32",
   "metadata": {},
   "source": [
    "### Naive Bayes"
   ]
  },
  {
   "cell_type": "code",
   "execution_count": 73,
   "id": "dcc0b3e3",
   "metadata": {},
   "outputs": [
    {
     "name": "stdout",
     "output_type": "stream",
     "text": [
      "accuracy_score:0.7213214715677231\n",
      "f1_score:0.319850415935282\n"
     ]
    },
    {
     "data": {
      "image/png": "[encoded data removed]",
      "text/plain": [
       "<Figure size 432x288 with 2 Axes>"
      ]
     },
     "metadata": {
      "needs_background": "light"
     },
     "output_type": "display_data"
    }
   ],
   "source": [
    "gnb = GaussianNB()\n",
    "y_pred = gnb.fit(x_train_1hot_resample, y_train_resample)\n",
    "\n",
    "y_pred = gnb.predict(x_test_1hot)\n",
    "\n",
    "plot_conf_matrix(y_test, y_pred)\n",
    "\n",
    "print(f'accuracy_score:{accuracy_score(y_test, y_pred)}')  \n",
    "print(f'f1_score:{f1_score(y_test, y_pred)}')"
   ]
  },
  {
   "cell_type": "markdown",
   "id": "bca76741",
   "metadata": {},
   "source": [
    "Not better than the SGD!"
   ]
  },
  {
   "cell_type": "markdown",
   "id": "69224e91",
   "metadata": {},
   "source": [
    "### Random forest"
   ]
  },
  {
   "cell_type": "code",
   "execution_count": 74,
   "id": "1f0bb1d7",
   "metadata": {},
   "outputs": [],
   "source": [
    "parameters = {'max_depth':[8, 10, 12, 14, 16, 18, 20]}\n",
    "\n",
    "clf = GridSearchCV(RandomForestClassifier(random_state=42), parameters, scoring='f1', cv=3)\n",
    "clf = clf.fit(x_train_1hot_resample, y_train_resample)\n",
    "\n",
    "y_pred = clf.best_estimator_.predict(x_test_1hot)"
   ]
  },
  {
   "cell_type": "code",
   "execution_count": 75,
   "id": "5496172f",
   "metadata": {},
   "outputs": [
    {
     "name": "stdout",
     "output_type": "stream",
     "text": [
      "accuracy_score:0.8752794759142576\n",
      "f1_score:0.3637233787987556\n"
     ]
    },
    {
     "data": {
      "image/png": "[encoded data removed]",
      "text/plain": [
       "<Figure size 432x288 with 2 Axes>"
      ]
     },
     "metadata": {
      "needs_background": "light"
     },
     "output_type": "display_data"
    }
   ],
   "source": [
    "plot_conf_matrix(y_test, y_pred)\n",
    "\n",
    "print(f'accuracy_score:{accuracy_score(y_test, y_pred)}')  \n",
    "print(f'f1_score:{f1_score(y_test, y_pred)}')"
   ]
  },
  {
   "cell_type": "markdown",
   "id": "03551268",
   "metadata": {},
   "source": [
    "Accuracy is better than the SGD but f1 score is not."
   ]
  },
  {
   "cell_type": "markdown",
   "id": "95f2c5f7",
   "metadata": {},
   "source": [
    "### Deep  neural network"
   ]
  },
  {
   "cell_type": "code",
   "execution_count": 85,
   "id": "484aca33",
   "metadata": {},
   "outputs": [],
   "source": [
    "def build_model(units=32):\n",
    "    model = tf.keras.models.Sequential()\n",
    "    model.add(tf.keras.layers.Dense(units, activation='relu', kernel_regularizer='l2',input_shape=(50,)))\n",
    "    model.add(tf.keras.layers.Dense(units, activation='relu', kernel_regularizer='l2'))\n",
    "    model.add(tf.keras.layers.Dense(1, activation='sigmoid'))\n",
    "    model.compile(loss=\"binary_crossentropy\", optimizer=tf.keras.optimizers.Adam(learning_rate=.0001), metrics=['accuracy'])\n",
    "    return model"
   ]
  },
  {
   "cell_type": "code",
   "execution_count": 97,
   "id": "6e02c6c1",
   "metadata": {},
   "outputs": [
    {
     "name": "stdout",
     "output_type": "stream",
     "text": [
      "Epoch 1/100\n",
      "1000/1000 [==============================] - 2s 957us/step - loss: 1.0421 - accuracy: 0.7239\n",
      "Epoch 2/100\n",
      "1000/1000 [==============================] - 1s 919us/step - loss: 0.7014 - accuracy: 0.7632\n",
      "Epoch 3/100\n",
      "1000/1000 [==============================] - 1s 891us/step - loss: 0.5737 - accuracy: 0.7717\n",
      "Epoch 4/100\n",
      "1000/1000 [==============================] - 1s 893us/step - loss: 0.5266 - accuracy: 0.7734\n",
      "Epoch 5/100\n",
      "1000/1000 [==============================] - 1s 884us/step - loss: 0.5082 - accuracy: 0.7743\n",
      "Epoch 6/100\n",
      "1000/1000 [==============================] - 1s 1ms/step - loss: 0.4993 - accuracy: 0.7751\n",
      "Epoch 7/100\n",
      "1000/1000 [==============================] - 1s 914us/step - loss: 0.4936 - accuracy: 0.7756\n",
      "Epoch 8/100\n",
      "1000/1000 [==============================] - 1s 902us/step - loss: 0.4896 - accuracy: 0.7762\n",
      "Epoch 9/100\n",
      "1000/1000 [==============================] - 1s 926us/step - loss: 0.4865 - accuracy: 0.7760\n",
      "Epoch 10/100\n",
      "1000/1000 [==============================] - 1s 1ms/step - loss: 0.4841 - accuracy: 0.7765\n",
      "Epoch 11/100\n",
      "1000/1000 [==============================] - 1s 1ms/step - loss: 0.4821 - accuracy: 0.7764\n",
      "Epoch 12/100\n",
      "1000/1000 [==============================] - 1s 909us/step - loss: 0.4803 - accuracy: 0.7770\n",
      "Epoch 13/100\n",
      "1000/1000 [==============================] - 1s 989us/step - loss: 0.4789 - accuracy: 0.7767\n",
      "Epoch 14/100\n",
      "1000/1000 [==============================] - 1s 969us/step - loss: 0.4776 - accuracy: 0.7770\n",
      "Epoch 15/100\n",
      "1000/1000 [==============================] - 1s 917us/step - loss: 0.4765 - accuracy: 0.7772\n",
      "Epoch 16/100\n",
      "1000/1000 [==============================] - 1s 917us/step - loss: 0.4756 - accuracy: 0.7773\n",
      "Epoch 17/100\n",
      "1000/1000 [==============================] - 1s 974us/step - loss: 0.4747 - accuracy: 0.7772\n",
      "Epoch 18/100\n",
      "1000/1000 [==============================] - 1s 1ms/step - loss: 0.4739 - accuracy: 0.7773\n",
      "Epoch 19/100\n",
      "1000/1000 [==============================] - 1s 994us/step - loss: 0.4733 - accuracy: 0.7771\n",
      "Epoch 20/100\n",
      "1000/1000 [==============================] - 1s 929us/step - loss: 0.4726 - accuracy: 0.7774\n",
      "Epoch 21/100\n",
      "1000/1000 [==============================] - 1s 1ms/step - loss: 0.4721 - accuracy: 0.7774\n",
      "Epoch 22/100\n",
      "1000/1000 [==============================] - 1s 952us/step - loss: 0.4715 - accuracy: 0.7774\n",
      "Epoch 23/100\n",
      "1000/1000 [==============================] - 1s 1ms/step - loss: 0.4710 - accuracy: 0.7774\n",
      "Epoch 24/100\n",
      "1000/1000 [==============================] - 1s 979us/step - loss: 0.4706 - accuracy: 0.7777\n",
      "Epoch 25/100\n",
      "1000/1000 [==============================] - 1s 964us/step - loss: 0.4702 - accuracy: 0.7773\n",
      "Epoch 26/100\n",
      "1000/1000 [==============================] - 1s 943us/step - loss: 0.4698 - accuracy: 0.7776\n",
      "Epoch 27/100\n",
      "1000/1000 [==============================] - 1s 924us/step - loss: 0.4695 - accuracy: 0.7776\n",
      "Epoch 28/100\n",
      "1000/1000 [==============================] - 1s 897us/step - loss: 0.4692 - accuracy: 0.7776\n",
      "Epoch 29/100\n",
      "1000/1000 [==============================] - 1s 920us/step - loss: 0.4689 - accuracy: 0.7776\n",
      "Epoch 30/100\n",
      "1000/1000 [==============================] - 1s 907us/step - loss: 0.4686 - accuracy: 0.7777\n",
      "Epoch 31/100\n",
      "1000/1000 [==============================] - 1s 922us/step - loss: 0.4682 - accuracy: 0.7779\n",
      "Epoch 32/100\n",
      "1000/1000 [==============================] - 1s 926us/step - loss: 0.4680 - accuracy: 0.7782\n",
      "Epoch 33/100\n",
      "1000/1000 [==============================] - 1s 900us/step - loss: 0.4678 - accuracy: 0.7780\n",
      "Epoch 34/100\n",
      "1000/1000 [==============================] - 1s 961us/step - loss: 0.4675 - accuracy: 0.7781\n",
      "Epoch 35/100\n",
      "1000/1000 [==============================] - 1s 922us/step - loss: 0.4673 - accuracy: 0.7780\n",
      "Epoch 36/100\n",
      "1000/1000 [==============================] - 1s 907us/step - loss: 0.4671 - accuracy: 0.7779\n",
      "Epoch 37/100\n",
      "1000/1000 [==============================] - 1s 907us/step - loss: 0.4669 - accuracy: 0.77840s - loss: 0.4660 - ac\n",
      "Epoch 38/100\n",
      "1000/1000 [==============================] - 1s 907us/step - loss: 0.4667 - accuracy: 0.7780\n",
      "Epoch 39/100\n",
      "1000/1000 [==============================] - 1s 961us/step - loss: 0.4665 - accuracy: 0.7782\n",
      "Epoch 40/100\n",
      "1000/1000 [==============================] - 1s 1ms/step - loss: 0.4663 - accuracy: 0.7781\n",
      "Epoch 41/100\n",
      "1000/1000 [==============================] - 1s 1ms/step - loss: 0.4661 - accuracy: 0.7783\n",
      "Epoch 42/100\n",
      "1000/1000 [==============================] - 1s 1ms/step - loss: 0.4659 - accuracy: 0.7784\n",
      "Epoch 43/100\n",
      "1000/1000 [==============================] - 1s 959us/step - loss: 0.4658 - accuracy: 0.7782\n",
      "Epoch 44/100\n",
      "1000/1000 [==============================] - 1s 942us/step - loss: 0.4657 - accuracy: 0.7785\n",
      "Epoch 45/100\n",
      "1000/1000 [==============================] - 1s 1ms/step - loss: 0.4655 - accuracy: 0.7786\n",
      "Epoch 46/100\n",
      "1000/1000 [==============================] - 1s 1ms/step - loss: 0.4653 - accuracy: 0.7787\n",
      "Epoch 47/100\n",
      "1000/1000 [==============================] - 1s 1ms/step - loss: 0.4652 - accuracy: 0.7785\n",
      "Epoch 48/100\n",
      "1000/1000 [==============================] - 1s 1ms/step - loss: 0.4651 - accuracy: 0.7787\n",
      "Epoch 49/100\n",
      "1000/1000 [==============================] - 1s 1ms/step - loss: 0.4649 - accuracy: 0.7785\n",
      "Epoch 50/100\n",
      "1000/1000 [==============================] - 1s 938us/step - loss: 0.4648 - accuracy: 0.7785\n",
      "Epoch 51/100\n",
      "1000/1000 [==============================] - 1s 887us/step - loss: 0.4646 - accuracy: 0.7788\n",
      "Epoch 52/100\n",
      "1000/1000 [==============================] - 1s 914us/step - loss: 0.4645 - accuracy: 0.7789\n",
      "Epoch 53/100\n",
      "1000/1000 [==============================] - 1s 911us/step - loss: 0.4644 - accuracy: 0.7789\n",
      "Epoch 54/100\n",
      "1000/1000 [==============================] - 1s 908us/step - loss: 0.4643 - accuracy: 0.7789\n",
      "Epoch 55/100\n",
      "1000/1000 [==============================] - 1s 909us/step - loss: 0.4642 - accuracy: 0.7791\n",
      "Epoch 56/100\n",
      "1000/1000 [==============================] - 1s 982us/step - loss: 0.4641 - accuracy: 0.7788\n",
      "Epoch 57/100\n",
      "1000/1000 [==============================] - 1s 916us/step - loss: 0.4640 - accuracy: 0.7788\n",
      "Epoch 58/100\n",
      "1000/1000 [==============================] - 1s 894us/step - loss: 0.4638 - accuracy: 0.7786\n",
      "Epoch 59/100\n",
      "1000/1000 [==============================] - 1s 1ms/step - loss: 0.4637 - accuracy: 0.7788\n",
      "Epoch 60/100\n",
      "1000/1000 [==============================] - 1s 1ms/step - loss: 0.4637 - accuracy: 0.7791\n",
      "Epoch 61/100\n",
      "1000/1000 [==============================] - 1s 988us/step - loss: 0.4635 - accuracy: 0.7789\n",
      "Epoch 62/100\n",
      "1000/1000 [==============================] - 1s 929us/step - loss: 0.4635 - accuracy: 0.7792\n",
      "Epoch 63/100\n",
      "1000/1000 [==============================] - 1s 1ms/step - loss: 0.4633 - accuracy: 0.7791\n",
      "Epoch 64/100\n",
      "1000/1000 [==============================] - 1s 1ms/step - loss: 0.4633 - accuracy: 0.7790\n",
      "Epoch 65/100\n",
      "1000/1000 [==============================] - 1s 955us/step - loss: 0.4632 - accuracy: 0.7791\n",
      "Epoch 66/100\n",
      "1000/1000 [==============================] - 1s 1ms/step - loss: 0.4631 - accuracy: 0.7791\n",
      "Epoch 67/100\n",
      "1000/1000 [==============================] - 1s 1ms/step - loss: 0.4630 - accuracy: 0.7791\n",
      "Epoch 68/100\n",
      "1000/1000 [==============================] - 1s 996us/step - loss: 0.4629 - accuracy: 0.7792\n",
      "Epoch 69/100\n",
      "1000/1000 [==============================] - 1s 1ms/step - loss: 0.4629 - accuracy: 0.7792\n",
      "Epoch 70/100\n",
      "1000/1000 [==============================] - 1s 1ms/step - loss: 0.4628 - accuracy: 0.7793\n",
      "Epoch 71/100\n",
      "1000/1000 [==============================] - 1s 1ms/step - loss: 0.4627 - accuracy: 0.7795\n",
      "Epoch 72/100\n",
      "1000/1000 [==============================] - 1s 1ms/step - loss: 0.4626 - accuracy: 0.7790\n",
      "Epoch 73/100\n",
      "1000/1000 [==============================] - 1s 1ms/step - loss: 0.4626 - accuracy: 0.7793\n",
      "Epoch 74/100\n",
      "1000/1000 [==============================] - 1s 1ms/step - loss: 0.4625 - accuracy: 0.7792: \n",
      "Epoch 75/100\n",
      "1000/1000 [==============================] - 1s 1ms/step - loss: 0.4624 - accuracy: 0.7792\n",
      "Epoch 76/100\n",
      "1000/1000 [==============================] - 1s 1ms/step - loss: 0.4624 - accuracy: 0.7792\n",
      "Epoch 77/100\n",
      "1000/1000 [==============================] - 1s 1ms/step - loss: 0.4623 - accuracy: 0.7794\n",
      "Epoch 78/100\n"
     ]
    },
    {
     "name": "stdout",
     "output_type": "stream",
     "text": [
      "1000/1000 [==============================] - 1s 1ms/step - loss: 0.4622 - accuracy: 0.7792\n",
      "Epoch 79/100\n",
      "1000/1000 [==============================] - 1s 1ms/step - loss: 0.4621 - accuracy: 0.7792\n",
      "Epoch 80/100\n",
      "1000/1000 [==============================] - 1s 1ms/step - loss: 0.4622 - accuracy: 0.7795\n",
      "Epoch 81/100\n",
      "1000/1000 [==============================] - 1s 940us/step - loss: 0.4621 - accuracy: 0.7791\n",
      "Epoch 82/100\n",
      "1000/1000 [==============================] - 1s 1ms/step - loss: 0.4620 - accuracy: 0.7794\n",
      "Epoch 83/100\n",
      "1000/1000 [==============================] - 1s 970us/step - loss: 0.4619 - accuracy: 0.7797\n",
      "Epoch 84/100\n",
      "1000/1000 [==============================] - 1s 957us/step - loss: 0.4619 - accuracy: 0.7795\n",
      "Epoch 85/100\n",
      "1000/1000 [==============================] - 1s 984us/step - loss: 0.4617 - accuracy: 0.7796\n",
      "Epoch 86/100\n",
      "1000/1000 [==============================] - 1s 1ms/step - loss: 0.4617 - accuracy: 0.7796\n",
      "Epoch 87/100\n",
      "1000/1000 [==============================] - 1s 900us/step - loss: 0.4616 - accuracy: 0.7797\n",
      "Epoch 88/100\n",
      "1000/1000 [==============================] - 1s 946us/step - loss: 0.4616 - accuracy: 0.7794\n",
      "Epoch 89/100\n",
      "1000/1000 [==============================] - 1s 960us/step - loss: 0.4615 - accuracy: 0.7798\n",
      "Epoch 90/100\n",
      "1000/1000 [==============================] - 1s 949us/step - loss: 0.4615 - accuracy: 0.7798\n",
      "Epoch 91/100\n",
      "1000/1000 [==============================] - 1s 994us/step - loss: 0.4615 - accuracy: 0.7795\n",
      "Epoch 92/100\n",
      "1000/1000 [==============================] - 1s 948us/step - loss: 0.4614 - accuracy: 0.7796\n",
      "Epoch 93/100\n",
      "1000/1000 [==============================] - 1s 961us/step - loss: 0.4613 - accuracy: 0.7795\n",
      "Epoch 94/100\n",
      "1000/1000 [==============================] - 1s 1ms/step - loss: 0.4613 - accuracy: 0.7797\n",
      "Epoch 95/100\n",
      "1000/1000 [==============================] - 1s 982us/step - loss: 0.4612 - accuracy: 0.7797\n",
      "Epoch 96/100\n",
      "1000/1000 [==============================] - 1s 991us/step - loss: 0.4612 - accuracy: 0.7795\n",
      "Epoch 97/100\n",
      "1000/1000 [==============================] - 1s 984us/step - loss: 0.4611 - accuracy: 0.7798\n",
      "Epoch 98/100\n",
      "1000/1000 [==============================] - 1s 1ms/step - loss: 0.4611 - accuracy: 0.7797\n",
      "Epoch 99/100\n",
      "1000/1000 [==============================] - 1s 928us/step - loss: 0.4610 - accuracy: 0.7796\n",
      "Epoch 100/100\n",
      "1000/1000 [==============================] - 1s 968us/step - loss: 0.4610 - accuracy: 0.7800\n"
     ]
    }
   ],
   "source": [
    "y_train_resample=y_train_resample.astype(np.float32)\n",
    "x_train_1hot_resample=x_train_1hot_resample.astype(np.float32)\n",
    "\n",
    "model = build_model()\n",
    "history=model.fit(x=x_train_1hot_resample, y=y_train_resample, epochs=100, batch_size=256)"
   ]
  },
  {
   "cell_type": "code",
   "execution_count": 98,
   "id": "58295a20",
   "metadata": {},
   "outputs": [
    {
     "data": {
      "text/plain": [
       "Text(0, 0.5, 'accuracy')"
      ]
     },
     "execution_count": 98,
     "metadata": {},
     "output_type": "execute_result"
    },
    {
     "data": {
      "image/png": "[encoded data removed]",
      "text/plain": [
       "<Figure size 1080x360 with 2 Axes>"
      ]
     },
     "metadata": {
      "needs_background": "light"
     },
     "output_type": "display_data"
    }
   ],
   "source": [
    "fig, axes = plt.subplots(1, 2, figsize=(15, 5))\n",
    "axes[0].plot(history.history['loss'])\n",
    "axes[0].set_ylabel('loss')\n",
    "axes[1].plot(history.history['accuracy'])\n",
    "axes[1].set_ylabel('accuracy')"
   ]
  },
  {
   "cell_type": "code",
   "execution_count": 99,
   "id": "6cccfb61",
   "metadata": {},
   "outputs": [],
   "source": [
    "x_test_1hot = x_test_1hot.astype(np.float32)\n",
    "y_pred = model.predict(x_test_1hot)\n",
    "y_pred = y_pred>.5"
   ]
  },
  {
   "cell_type": "code",
   "execution_count": 100,
   "id": "cabe5c48",
   "metadata": {},
   "outputs": [
    {
     "name": "stdout",
     "output_type": "stream",
     "text": [
      "accuracy_score:0.8544692693756938\n",
      "f1_score:0.3958198104634559\n"
     ]
    },
    {
     "data": {
      "image/png": "[encoded data removed]",
      "text/plain": [
       "<Figure size 432x288 with 2 Axes>"
      ]
     },
     "metadata": {
      "needs_background": "light"
     },
     "output_type": "display_data"
    }
   ],
   "source": [
    "conf_matrix=confusion_matrix(y_test, y_pred)\n",
    "\n",
    "conf_matrix = pd.DataFrame(data=conf_matrix, columns=['No', 'Yes'], index=['No', 'Yes'])\n",
    "sns.heatmap(conf_matrix, annot=True)\n",
    "\n",
    "print(f'accuracy_score:{accuracy_score(y_test, y_pred)}')  \n",
    "print(f'f1_score:{f1_score(y_test, y_pred)}')"
   ]
  },
  {
   "cell_type": "markdown",
   "id": "4ab78efd",
   "metadata": {},
   "source": [
    "## Defining the best model"
   ]
  },
  {
   "cell_type": "markdown",
   "id": "2713432e",
   "metadata": {},
   "source": [
    "Medel |accuracy |f1\n",
    "-----|-----|----- \n",
    "SGD           |0.862|0.389\n",
    "Naive Bayes   |0.721|0.319\n",
    "Random forest |0.875|0.363\n",
    "Neural network|0.854|0.395"
   ]
  },
  {
   "cell_type": "markdown",
   "id": "f1e661dd",
   "metadata": {},
   "source": [
    "Comparing the accuracy  and f1 score values the SGD  and nueral network are close. However,nueral network is the best model for predicting if someone has heart disease."
   ]
  }
 ],
 "metadata": {
  "kernelspec": {
   "display_name": "Python 3 (ipykernel)",
   "language": "python",
   "name": "python3"
  },
  "language_info": {
   "codemirror_mode": {
    "name": "ipython",
    "version": 3
   },
   "file_extension": ".py",
   "mimetype": "text/x-python",
   "name": "python",
   "nbconvert_exporter": "python",
   "pygments_lexer": "ipython3",
   "version": "3.9.7"
  }
 },
 "nbformat": 4,
 "nbformat_minor": 5
}
